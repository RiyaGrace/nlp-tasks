{
 "cells": [
  {
   "cell_type": "markdown",
   "metadata": {},
   "source": [
    "# TASK : MOST FREQUENTLY USED WORD"
   ]
  },
  {
   "cell_type": "code",
   "execution_count": 2,
   "metadata": {},
   "outputs": [
    {
     "data": {
      "text/plain": [
       "'My fellow citizens : I stand here today humbled by the task before us , grateful for the trust you have bestowed , mindful of the sacrifices borne by our ancestors . I thank President Bush for his service to our nation , as well as the generosity and cooperation he has shown throughout this transition . Forty - four Americans have now taken the presidential oath . The words have been spoken during rising tides of prosperity and the still waters of peace . Yet , every so often the oath is taken a'"
      ]
     },
     "execution_count": 2,
     "metadata": {},
     "output_type": "execute_result"
    }
   ],
   "source": [
    "import nltk\n",
    "from nltk.corpus import inaugural\n",
    "from nltk.tokenize import sent_tokenize\n",
    "#converting list to single string str1\n",
    "text1=inaugural.words(fileids='2009-Obama.txt')\n",
    "str1=\" \".join(text1)\n",
    "str1[:500]"
   ]
  },
  {
   "cell_type": "code",
   "execution_count": 4,
   "metadata": {},
   "outputs": [
    {
     "data": {
      "text/plain": [
       "FreqDist({',': 8, 'President': 4, 'of': 3, 'and': 2, 'people': 2, 'the': 2, '.': 2, 'our': 2, '\"Chief': 1, 'Justice': 1, ...})"
      ]
     },
     "execution_count": 4,
     "metadata": {},
     "output_type": "execute_result"
    }
   ],
   "source": [
    "# frequency distribution of words in a text\n",
    "text='\"Chief Justice Roberts , President Carter , President Clinton , President Bush , President Obama , fellow Americans , and people of the world : Thank you . We , the citizens of America , are now joined in a great national effort to rebuild our country and restore its promise for all of our people . \"'\n",
    "fd=nltk.FreqDist(text.split())\n",
    "fd"
   ]
  },
  {
   "cell_type": "code",
   "execution_count": 5,
   "metadata": {},
   "outputs": [
    {
     "data": {
      "text/plain": [
       "[6, 7, 1, 9, 4, 5, 3, 2, 8]"
      ]
     },
     "execution_count": 5,
     "metadata": {},
     "output_type": "execute_result"
    }
   ],
   "source": [
    "from nltk.probability import ConditionalFreqDist\n",
    "cfd=ConditionalFreqDist((len(word),word) for word in text.split())\n",
    "#list of conditons\n",
    "cfd.conditions()"
   ]
  },
  {
   "cell_type": "code",
   "execution_count": 6,
   "metadata": {},
   "outputs": [
    {
     "data": {
      "text/plain": [
       "FreqDist({'citizens': 1, 'national': 1})"
      ]
     },
     "execution_count": 6,
     "metadata": {},
     "output_type": "execute_result"
    }
   ],
   "source": [
    "cfd[8]"
   ]
  },
  {
   "cell_type": "code",
   "execution_count": 7,
   "metadata": {},
   "outputs": [
    {
     "data": {
      "text/plain": [
       "FreqDist({'that': 48, 'this': 20, 'will': 19, 'have': 16, 'with': 11, 'they': 11, 'been': 8, 'must': 8, 'than': 8, 'when': 7, ...})"
      ]
     },
     "execution_count": 7,
     "metadata": {},
     "output_type": "execute_result"
    }
   ],
   "source": [
    "inauguraldata = inaugural.words(fileids = '2009-Obama.txt')\n",
    "cdf = ConditionalFreqDist((len(word), word) for word in inauguraldata)\n",
    "cdf[4]"
   ]
  },
  {
   "cell_type": "code",
   "execution_count": 8,
   "metadata": {},
   "outputs": [],
   "source": [
    "data = []\n",
    "for words in inauguraldata:\n",
    "    if len(words)>4:\n",
    "        data.append(words)"
   ]
  },
  {
   "cell_type": "code",
   "execution_count": 9,
   "metadata": {},
   "outputs": [
    {
     "data": {
      "text/plain": [
       "FreqDist({'nation': 12, 'America': 10, 'those': 10, 'their': 9, 'every': 8, 'because': 8, 'these': 7, 'world': 7, 'cannot': 6, 'common': 6, ...})"
      ]
     },
     "execution_count": 9,
     "metadata": {},
     "output_type": "execute_result"
    }
   ],
   "source": [
    "fd = nltk.FreqDist(data)\n",
    "fd"
   ]
  },
  {
   "cell_type": "code",
   "execution_count": 10,
   "metadata": {},
   "outputs": [
    {
     "name": "stdout",
     "output_type": "stream",
     "text": [
      "Most frequently Used used word are : ('nation', 12)\n"
     ]
    }
   ],
   "source": [
    "sorted_fd = sorted(fd.items(), key = lambda x:x[1])\n",
    "word = list(sorted_fd)[len(sorted_fd)-1]\n",
    "print(\"Most frequently Used used word are :\",word)"
   ]
  },
  {
   "cell_type": "code",
   "execution_count": null,
   "metadata": {},
   "outputs": [],
   "source": []
  }
 ],
 "metadata": {
  "kernelspec": {
   "display_name": "Python 3",
   "language": "python",
   "name": "python3"
  },
  "language_info": {
   "codemirror_mode": {
    "name": "ipython",
    "version": 3
   },
   "file_extension": ".py",
   "mimetype": "text/x-python",
   "name": "python",
   "nbconvert_exporter": "python",
   "pygments_lexer": "ipython3",
   "version": "3.7.4"
  }
 },
 "nbformat": 4,
 "nbformat_minor": 2
}
