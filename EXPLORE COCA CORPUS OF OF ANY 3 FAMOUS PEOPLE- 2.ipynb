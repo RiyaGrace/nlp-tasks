{
 "cells": [
  {
   "cell_type": "code",
   "execution_count": 5,
   "metadata": {},
   "outputs": [
    {
     "data": {
      "text/plain": [
       "['My', 'fellow', '-', 'citizens', ',', 'when', 'we', ...]"
      ]
     },
     "execution_count": 5,
     "metadata": {},
     "output_type": "execute_result"
    }
   ],
   "source": [
    "import nltk\n",
    "from nltk.corpus import inaugural\n",
    "inaugural.fileids()\n",
    "inaugural.words(fileids='1901-McKinley.txt')"
   ]
  },
  {
   "cell_type": "code",
   "execution_count": 6,
   "metadata": {},
   "outputs": [],
   "source": [
    "text1=inaugural.words(fileids='1901-McKinley.txt')"
   ]
  },
  {
   "cell_type": "code",
   "execution_count": 7,
   "metadata": {},
   "outputs": [
    {
     "data": {
      "text/plain": [
       "2450"
      ]
     },
     "execution_count": 7,
     "metadata": {},
     "output_type": "execute_result"
    }
   ],
   "source": [
    "#number of words of corpus\n",
    "len(text1)"
   ]
  },
  {
   "cell_type": "code",
   "execution_count": 9,
   "metadata": {},
   "outputs": [
    {
     "data": {
      "text/plain": [
       "FreqDist({'the': 182, ',': 111, 'of': 110, 'and': 97, '.': 92, 'to': 64, 'in': 41, 'be': 27, 'are': 23, 'for': 22, ...})"
      ]
     },
     "execution_count": 9,
     "metadata": {},
     "output_type": "execute_result"
    }
   ],
   "source": [
    "#FREQUENCY DISTRIBUTION\n",
    "fd=nltk.FreqDist(text1)\n",
    "fd"
   ]
  },
  {
   "cell_type": "code",
   "execution_count": 10,
   "metadata": {},
   "outputs": [
    {
     "data": {
      "text/plain": [
       "FreqDist({'the': 182, 'and': 97, 'are': 23, 'for': 22, 'not': 21, 'our': 20, 'its': 20, 'The': 18, 'has': 16, 'who': 8, ...})"
      ]
     },
     "execution_count": 10,
     "metadata": {},
     "output_type": "execute_result"
    }
   ],
   "source": [
    "#CONDITIONAL FREQUENCY DISTRIBUTION\n",
    "from nltk.probability import ConditionalFreqDist\n",
    "cfd=ConditionalFreqDist((len(word),word) for word in text1)\n",
    "cfd[3]"
   ]
  },
  {
   "cell_type": "code",
   "execution_count": 13,
   "metadata": {},
   "outputs": [
    {
     "data": {
      "text/plain": [
       "['Vice', 'President', 'Cheney', ',', 'Mr', '.', ...]"
      ]
     },
     "execution_count": 13,
     "metadata": {},
     "output_type": "execute_result"
    }
   ],
   "source": [
    "#IMPORT INUGURAL CORPUS 2 \n",
    "from nltk.probability import ConditionalFreqDist\n",
    "from nltk.corpus import inaugural\n",
    "inaugural.fileids()\n",
    "inaugural.words(fileids='2005-Bush.txt')"
   ]
  },
  {
   "cell_type": "code",
   "execution_count": 14,
   "metadata": {},
   "outputs": [
    {
     "data": {
      "text/plain": [
       "2376"
      ]
     },
     "execution_count": 14,
     "metadata": {},
     "output_type": "execute_result"
    }
   ],
   "source": [
    "text1=inaugural.words(fileids='2005-Bush.txt')\n",
    "#length of our corpus\n",
    "len(text1)"
   ]
  },
  {
   "cell_type": "code",
   "execution_count": 15,
   "metadata": {},
   "outputs": [
    {
     "data": {
      "text/plain": [
       "FreqDist({',': 137, 'the': 133, 'of': 116, 'and': 96, '.': 95, 'our': 47, 'in': 44, 'to': 36, 'is': 30, 'that': 27, ...})"
      ]
     },
     "execution_count": 15,
     "metadata": {},
     "output_type": "execute_result"
    }
   ],
   "source": [
    "#FREQUENCY DISTRIBUTION\n",
    "fd=nltk.FreqDist(text1)\n",
    "fd"
   ]
  },
  {
   "cell_type": "code",
   "execution_count": 16,
   "metadata": {},
   "outputs": [
    {
     "data": {
      "text/plain": [
       "FreqDist({'the': 133, 'and': 96, 'our': 47, 'for': 15, 'are': 14, 'not': 13, 'you': 10, 'own': 9, 'one': 9, 'all': 9, ...})"
      ]
     },
     "execution_count": 16,
     "metadata": {},
     "output_type": "execute_result"
    }
   ],
   "source": [
    "#CONDITIONAL FREQUENCY DISTRIBUTION\n",
    "from nltk.probability import ConditionalFreqDist\n",
    "cfd=ConditionalFreqDist((len(word),word) for word in text1)\n",
    "cfd[3]"
   ]
  },
  {
   "cell_type": "code",
   "execution_count": 17,
   "metadata": {},
   "outputs": [
    {
     "data": {
      "text/plain": [
       "['Fellow', '-', 'Citizens', ',', 'there', 'is', 'no', ...]"
      ]
     },
     "execution_count": 17,
     "metadata": {},
     "output_type": "execute_result"
    }
   ],
   "source": [
    "#FROM CORPUS IMPORT INUGURAL CORPUS 3 AND ACCESS\n",
    "from nltk.corpus import inaugural\n",
    "inaugural.fileids()\n",
    "inaugural.words(fileids='1889-Harrison.txt')"
   ]
  },
  {
   "cell_type": "code",
   "execution_count": 18,
   "metadata": {},
   "outputs": [
    {
     "data": {
      "text/plain": [
       "4750"
      ]
     },
     "execution_count": 18,
     "metadata": {},
     "output_type": "execute_result"
    }
   ],
   "source": [
    "text1=inaugural.words(fileids='1889-Harrison.txt')\n",
    "#length of our corpus\n",
    "len(text1)"
   ]
  },
  {
   "cell_type": "code",
   "execution_count": 19,
   "metadata": {},
   "outputs": [
    {
     "data": {
      "text/plain": [
       "FreqDist({'the': 313, 'of': 240, 'and': 191, ',': 167, '.': 151, 'to': 133, 'in': 80, 'our': 69, 'that': 63, 'a': 62, ...})"
      ]
     },
     "execution_count": 19,
     "metadata": {},
     "output_type": "execute_result"
    }
   ],
   "source": [
    "#FREQUENCY DISTRIBUTION\n",
    "fd=nltk.FreqDist(text1)\n",
    "fd"
   ]
  },
  {
   "cell_type": "code",
   "execution_count": 20,
   "metadata": {},
   "outputs": [
    {
     "data": {
      "text/plain": [
       "FreqDist({'the': 313, 'and': 191, 'our': 69, 'The': 47, 'not': 45, 'for': 34, 'any': 23, 'all': 22, 'are': 21, 'who': 20, ...})"
      ]
     },
     "execution_count": 20,
     "metadata": {},
     "output_type": "execute_result"
    }
   ],
   "source": [
    "#CONDITIONAL FREQUENCY DISTRIBUTION\n",
    "from nltk.probability import ConditionalFreqDist\n",
    "cfd=ConditionalFreqDist((len(word),word) for word in text1)\n",
    "cfd[3]"
   ]
  },
  {
   "cell_type": "code",
   "execution_count": null,
   "metadata": {},
   "outputs": [],
   "source": []
  }
 ],
 "metadata": {
  "kernelspec": {
   "display_name": "Python 3",
   "language": "python",
   "name": "python3"
  },
  "language_info": {
   "codemirror_mode": {
    "name": "ipython",
    "version": 3
   },
   "file_extension": ".py",
   "mimetype": "text/x-python",
   "name": "python",
   "nbconvert_exporter": "python",
   "pygments_lexer": "ipython3",
   "version": "3.7.4"
  }
 },
 "nbformat": 4,
 "nbformat_minor": 2
}
